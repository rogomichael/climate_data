{
 "cells": [
  {
   "cell_type": "markdown",
   "metadata": {},
   "source": [
    "### Clipping The netcdf files by shapefiles"
   ]
  },
  {
   "cell_type": "code",
   "execution_count": null,
   "metadata": {},
   "outputs": [],
   "source": [
    "import xarray as xr\n",
    "import numpy as np\n",
    "import regionmask \n",
    "import geopandas as gpd\n",
    "import pandas as pd\n",
    "import cartopy.crs as ccrs\n",
    "import matplotlib.pyplot as plt\n",
    "import os, sys\n",
    "import warnings; warnings.filterwarnings(action='ignore')\n",
    "%matplotlib inline\n",
    "\n",
    "#Getting the currecnt working directory\n",
    "pwd = os.getcwd()\n",
    "os.chdir(pwd)\n",
    "print(pwd)"
   ]
  },
  {
   "cell_type": "code",
   "execution_count": null,
   "metadata": {},
   "outputs": [],
   "source": [
    "shapefile = \"/Users/michaelrogo/software/cli_he_code/hacked/NUTS_RG_20M_2021_4326/NUTS_RG_20M_2021_4326.shp\"\n",
    "countries = gpd.read_file(shapefile, header='None')\n",
    "querry = 3\n",
    "countries = countries[countries['LEVL_CODE'] == querry]\n",
    "#countries['geometry']\n",
    "#for i in range(0, countries.shape[0]):\n",
    "#    print(i)\n",
    "countries['NUTS_ID'].to_csv(\"codes.csv\")\n",
    "#df = pd.read_csv(\"codes.csv\")\n",
    "df = pd.read_excel(\"codes.xlsx\")\n",
    "my_dict = dict(zip(df['ID_NO'], df['NUTS_ID']))\n",
    "#my_dict\n",
    "\"\"\"\n",
    "for k,v in my_dict.items():\n",
    "    print(k,v)\n",
    "\"\"\"\n",
    "my_dict\n",
    "for i in my_dict:\n",
    "    print(i)\n"
   ]
  },
  {
   "cell_type": "code",
   "execution_count": null,
   "metadata": {
    "scrolled": true
   },
   "outputs": [],
   "source": [
    "fig, ax = plt.subplots(figsize=(16, 10))\n",
    "countries.plot(ax=ax, column='NUTS_ID')\n",
    "countries.head()['NUTS_ID']\n",
    "#.to_pandas().to_csv(\"nuts_id.csv\")"
   ]
  },
  {
   "cell_type": "markdown",
   "metadata": {},
   "source": [
    "## Comes the .nc file"
   ]
  },
  {
   "cell_type": "code",
   "execution_count": null,
   "metadata": {
    "scrolled": true
   },
   "outputs": [],
   "source": [
    "#The following command is for data with single variables\n",
    "print(pwd)\n",
    "d = xr.open_mfdataset('/Users/michaelrogo/software/cli_he_code/hacked/year2021.nc', chunks = {'time': 10})\n",
    "d = d.assign_coords(longitude=(((d.longitude + 180) % 360) - 180)).sortby('longitude')\n",
    "\n",
    "#d"
   ]
  },
  {
   "cell_type": "code",
   "execution_count": null,
   "metadata": {},
   "outputs": [],
   "source": [
    "#CALCULATE MASK\n",
    "nuts = countries\n",
    "#names = list(nuts.NUTS_ID)\n",
    "#len(names)\n",
    "nuts_mask_poly = regionmask.Regions(name = 'nuts_mask', numbers = list(range(0,1514)), names = list(nuts.NUTS_ID), abbrevs = list(nuts.NUTS_ID), outlines = list(nuts.geometry.values[i] for i in range(0,1514)))\n",
    "\n",
    "nuts_mask_poly"
   ]
  },
  {
   "cell_type": "code",
   "execution_count": null,
   "metadata": {},
   "outputs": [],
   "source": [
    "#Now apply the mask on the gridded dataset d.\n",
    "#Select only first timestep to speed up the process\n",
    "#Zoom only on the European continent\n",
    "print(\"Masking takes a while, please wait........\")\n",
    "mask = nuts_mask_poly.mask(d.isel(time=0), lat_name='latitude', lon_name='longitude')\n",
    "#mask\n",
    "print(\"Mask done\")"
   ]
  },
  {
   "cell_type": "code",
   "execution_count": null,
   "metadata": {
    "scrolled": true
   },
   "outputs": [],
   "source": [
    "#Plot the figure \n",
    "plt.figure(figsize=(12,8))\n",
    "ax = plt.axes()\n",
    "mask.plot(ax = ax)\n",
    "nuts.plot(ax = ax, alpha = 0.8, facecolor = 'none', lw = 1)"
   ]
  },
  {
   "cell_type": "markdown",
   "metadata": {},
   "source": [
    "### Extract time-series\n"
   ]
  },
  {
   "cell_type": "code",
   "execution_count": null,
   "metadata": {},
   "outputs": [],
   "source": [
    "#my_dict\n"
   ]
  },
  {
   "cell_type": "code",
   "execution_count": null,
   "metadata": {},
   "outputs": [],
   "source": [
    "#countries = countries[countries['LEVL_CODE'] == querry]\n",
    "#nuts.NUTS_ID\n",
    "#print(nuts[nuts['NUTS_ID'] == ID_REGION])\n",
    "\n",
    "nuts_ids = []\n",
    "for i in my_dict:\n",
    "    ID_REGION = i\n",
    "    #print(ID_REGION)\n",
    "    nuts_ids.append(ID_REGION)\n",
    "    #print(nuts_ids)\n",
    "    #print(nuts.NUTS_ID[ID_REGION])\n",
    "print(type(my_dict))\n",
    "for k, v in my_dict.items():\n",
    "    #print(v)\n",
    "    print(\"{}.csv\".format(v))"
   ]
  },
  {
   "cell_type": "code",
   "execution_count": null,
   "metadata": {},
   "outputs": [],
   "source": [
    "nuts_ids = []\n",
    "for i in my_dict:\n",
    "    ID_REGION = i\n",
    "    nuts_ids.append(ID_REGION)\n",
    "    lat = mask.latitude.values\n",
    "    lon = mask.longitude.values\n",
    "    sel_mask = mask.where(mask == ID_REGION).values\n",
    "    #print(sel_mask)\n",
    "    a = []\n",
    "    id_lon = lon[np.where(~np.all(np.isnan(sel_mask), axis=0))]\n",
    "    id_lat = lat[np.where(~np.all(np.isnan(sel_mask), axis=1))]\n",
    "    if len(id_lon) | len(id_lat) :\n",
    "        #print(ID_REGION, \"\\t lon-->\", id_lon)\n",
    "        #print(ID_REGION, \"\\t lat-->\", id_lat)\n",
    "        print(\"\\n\")\n",
    "        out_sel = d.sel(latitude = slice(id_lat[0], id_lat[-1]), longitude = slice(id_lon[0], id_lon[-1])).compute().where(mask == ID_REGION)\n",
    "        #print(out_sel) \n",
    "        print(\"\\n------PLOTTING THE GRAPH OF ------\",ID_REGION)\n",
    "        plt.figure(figsize=(12,8))\n",
    "        ax = plt.axes()\n",
    "        out_sel.tg.isel(time = 0).plot(ax = ax)\n",
    "        nuts.plot(ax = ax, alpha = 0.8, facecolor = 'none')\n",
    "    else:\n",
    "        pass\n",
    "#print(out_sel)\n",
    "print(\"\\n------------------------------------------------------------------------------\")\n",
    "print(\"\\n DONE PROCESSING..\")\n",
    "print(\"\\n------------------------------------------------------------------------------\")"
   ]
  },
  {
   "cell_type": "code",
   "execution_count": null,
   "metadata": {},
   "outputs": [],
   "source": [
    "#Plotting the masked data\n",
    "#for i in out_sel:\n",
    "#print(out_sel)\n",
    "plt.figure(figsize=(12,8))\n",
    "ax = plt.axes()\n",
    "out_sel.tg.isel(time = 0).plot(ax = ax)\n",
    "nuts.plot(ax = ax, alpha = 0.8, facecolor = 'none')\n",
    "    "
   ]
  },
  {
   "cell_type": "markdown",
   "metadata": {},
   "source": [
    "### Aggregate by the arithmetic mean using the groupby function to obtain a time-series of national average temperatures"
   ]
  },
  {
   "cell_type": "code",
   "execution_count": null,
   "metadata": {},
   "outputs": [],
   "source": [
    "x = out_sel.groupby('time').mean(...)\n",
    "#x"
   ]
  },
  {
   "cell_type": "code",
   "execution_count": null,
   "metadata": {},
   "outputs": [],
   "source": [
    "x.tg.plot()"
   ]
  },
  {
   "cell_type": "code",
   "execution_count": null,
   "metadata": {},
   "outputs": [],
   "source": [
    "tg_id = nuts.NUTS_ID[ID_REGION]\n",
    "#x.tg.to_pandas().to_csv('average-temperature.csv', header= ['nuts.NUTS_ID[ID_REGION]'])"
   ]
  },
  {
   "cell_type": "code",
   "execution_count": null,
   "metadata": {},
   "outputs": [],
   "source": []
  }
 ],
 "metadata": {
  "kernelspec": {
   "display_name": "Python 3 (ipykernel)",
   "language": "python",
   "name": "python3"
  },
  "language_info": {
   "codemirror_mode": {
    "name": "ipython",
    "version": 3
   },
   "file_extension": ".py",
   "mimetype": "text/x-python",
   "name": "python",
   "nbconvert_exporter": "python",
   "pygments_lexer": "ipython3",
   "version": "3.9.13"
  },
  "vscode": {
   "interpreter": {
    "hash": "916dbcbb3f70747c44a77c7bcd40155683ae19c65e1c03b4aa3499c5328201f1"
   }
  }
 },
 "nbformat": 4,
 "nbformat_minor": 2
}
